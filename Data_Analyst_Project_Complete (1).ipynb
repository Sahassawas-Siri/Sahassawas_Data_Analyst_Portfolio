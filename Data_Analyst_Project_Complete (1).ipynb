{
 "cells": [
  {
   "cell_type": "markdown",
   "id": "95b50ace-9ceb-4bf5-ac1e-db0fc69e7c32",
   "metadata": {},
   "source": [
    "# Data Analysis Workflow"
   ]
  },
  {
   "cell_type": "markdown",
   "id": "081e0549-e354-4905-afa0-ded6de26686b",
   "metadata": {},
   "source": [
    "## 1. Importing Libraries and Loading Data  \n",
    "\n",
    "First, I import the necessary libraries and load the datasets into pandas DataFrames for manipulation and analysis."
   ]
  },
  {
   "cell_type": "code",
   "execution_count": 30,
   "id": "56fa6c55-b1ba-44c4-9336-1218f2bd172f",
   "metadata": {},
   "outputs": [
    {
     "name": "stdout",
     "output_type": "stream",
     "text": [
      "Sales Data Overview:\n",
      "  invoice_no customer_id  category  quantity    price invoice_date  \\\n",
      "0    I138884     C241288  Clothing         5  1500.40    5/14/2021   \n",
      "1    I317333     C111565     Shoes         3  1800.51     9/9/2022   \n",
      "2    I127801     C266599  Clothing         1   300.08     1/4/2021   \n",
      "3    I173702     C988172     Shoes         5  3000.85     3/8/2022   \n",
      "4    I337046     C189076     Books         4    60.60   10/15/2021   \n",
      "\n",
      "    shopping_mall  \n",
      "0          Kanyon  \n",
      "1  Forum Istanbul  \n",
      "2       Metrocity  \n",
      "3    Metropol AVM  \n",
      "4          Kanyon  \n",
      "\n",
      "Customer Data Overview:\n",
      "  customer_id  gender   age payment_method\n",
      "0     C241288  Female  28.0    Credit Card\n",
      "1     C111565    Male  21.0     Debit Card\n",
      "2     C266599    Male  20.0           Cash\n",
      "3     C988172  Female  66.0    Credit Card\n",
      "4     C189076  Female  53.0           Cash\n"
     ]
    }
   ],
   "source": [
    "# Importing libraries\n",
    "import pandas as pd\n",
    "import seaborn as sns\n",
    "import matplotlib.pyplot as plt\n",
    "import mysql.connector\n",
    "\n",
    "# Loading datasets\n",
    "sales_data = pd.read_csv(\"sales_data.csv\")\n",
    "customer_data = pd.read_csv(\"customer_data.csv\")\n",
    "\n",
    "# Display the first 5 rows of each dataset\n",
    "print(\"Sales Data Overview:\")\n",
    "print(sales_data.head())\n",
    "\n",
    "print(\"\\nCustomer Data Overview:\")\n",
    "print(customer_data.head())"
   ]
  },
  {
   "cell_type": "markdown",
   "id": "bbbc7cf9-cd59-42b6-9cdb-efefc6aac7d7",
   "metadata": {},
   "source": [
    "## 2. Checking Data Types, Missing Values, and Duplicates  \n",
    "\n",
    "In this step, I inspect `sales_data.csv` dataset structure to ensure it is clean and ready for analysis. Key tasks include:  \n",
    "- Verifying **column data types** to identify any necessary conversions.  \n",
    "- Checking for **missing values** that need to be handled.  \n",
    "- Detecting **duplicate rows** to remove redundancy.  \n",
    "\n",
    "This foundational step provides an overview of the dataset, focusing on key identifiers, categories, and numerical features, ensuring accurate analysis in subsequent stages.\n"
   ]
  },
  {
   "cell_type": "code",
   "execution_count": 31,
   "id": "e7ca1664-3e90-486f-8c1f-1284699b227d",
   "metadata": {},
   "outputs": [
    {
     "name": "stdout",
     "output_type": "stream",
     "text": [
      "Sales Data Info:\n",
      "<class 'pandas.core.frame.DataFrame'>\n",
      "RangeIndex: 99459 entries, 0 to 99458\n",
      "Data columns (total 7 columns):\n",
      " #   Column         Non-Null Count  Dtype  \n",
      "---  ------         --------------  -----  \n",
      " 0   invoice_no     99459 non-null  object \n",
      " 1   customer_id    99459 non-null  object \n",
      " 2   category       99459 non-null  object \n",
      " 3   quantity       99459 non-null  int64  \n",
      " 4   price          99250 non-null  float64\n",
      " 5   invoice_date   99457 non-null  object \n",
      " 6   shopping_mall  99459 non-null  object \n",
      "dtypes: float64(1), int64(1), object(5)\n",
      "memory usage: 5.3+ MB\n",
      "None\n",
      "\n",
      "Sales Data Missing Values:\n",
      "invoice_no         0\n",
      "customer_id        0\n",
      "category           0\n",
      "quantity           0\n",
      "price            209\n",
      "invoice_date       2\n",
      "shopping_mall      0\n",
      "dtype: int64\n",
      "\n",
      "Sales Data Duplicate\n",
      "1\n",
      "\n",
      "Duplicate Rows\n",
      "   invoice_no customer_id  category  quantity   price invoice_date  \\\n",
      "14    I179802     C312861  Clothing         2  600.16     8/4/2021   \n",
      "15    I179802     C312861  Clothing         2  600.16     8/4/2021   \n",
      "\n",
      "   shopping_mall  \n",
      "14   Cevahir AVM  \n",
      "15   Cevahir AVM  \n"
     ]
    }
   ],
   "source": [
    "# Check data types and missing values\n",
    "print(\"Sales Data Info:\")\n",
    "print(sales_data.info())\n",
    "\n",
    "print(\"\\nSales Data Missing Values:\")\n",
    "print(sales_data.isnull().sum())\n",
    "\n",
    "# Check for duplicate rows\n",
    "print(\"\\nSales Data Duplicate\")\n",
    "duplicates = sales_data.duplicated().sum()\n",
    "print(duplicates)\n",
    "\n",
    "# Display duplicate rows\n",
    "print(\"\\nDuplicate Rows\")\n",
    "print(sales_data[sales_data.duplicated(keep=False)])"
   ]
  },
  {
   "cell_type": "markdown",
   "id": "fe887286-5228-41e7-bc88-87f7a02a54d6",
   "metadata": {},
   "source": [
    "## Step 3: Handling Missing Values and Data Type Conversion"
   ]
  },
  {
   "cell_type": "code",
   "execution_count": 5,
   "id": "7b9cc390-cf46-4d9e-ad0d-f1ea17cd7bdc",
   "metadata": {},
   "outputs": [],
   "source": [
    "#fill missing values in column 'price' with median because outlier has detected\n",
    "sales_data['price'] = sales_data['price'].fillna(sales_data['price'].median())\n",
    "#change the data type in column 'invoice_date' because now invoice_date column is object not date time\n",
    "sales_data['invoice_date'] = pd.to_datetime(sales_data['invoice_date'], errors = 'coerce')\n",
    "#fill missing values in column 'invoice_date' with ffill to fill with forward fill to fill in.\n",
    "sales_data['invoice_date'] = sales_data['invoice_date'].ffill()"
   ]
  },
  {
   "cell_type": "code",
   "execution_count": 6,
   "id": "b2db71bc-2220-4c42-ba94-8472480cd490",
   "metadata": {},
   "outputs": [
    {
     "name": "stdout",
     "output_type": "stream",
     "text": [
      "invoice_no       0\n",
      "customer_id      0\n",
      "category         0\n",
      "quantity         0\n",
      "price            0\n",
      "invoice_date     0\n",
      "shopping_mall    0\n",
      "dtype: int64\n"
     ]
    }
   ],
   "source": [
    "#check missing values agian\n",
    "print(sales_data.isnull().sum())"
   ]
  },
  {
   "cell_type": "markdown",
   "id": "b3fe947a-77ac-4aed-a433-725afab35ff8",
   "metadata": {},
   "source": [
    "There is no missing values now so I will deal with outlier in the next step"
   ]
  },
  {
   "cell_type": "markdown",
   "id": "663b7139-f183-4d00-a72a-e1330055dcc4",
   "metadata": {},
   "source": [
    "## Step 5: Detecting and Handling Outliers"
   ]
  },
  {
   "cell_type": "code",
   "execution_count": 7,
   "id": "d767c817-ed6d-4fa0-aa80-64551c610f64",
   "metadata": {},
   "outputs": [
    {
     "data": {
      "text/plain": [
       "<function matplotlib.pyplot.show(close=None, block=None)>"
      ]
     },
     "execution_count": 7,
     "metadata": {},
     "output_type": "execute_result"
    },
    {
     "data": {
      "image/png": "[encoded data removed]",
      "text/plain": [
       "<Figure size 640x480 with 1 Axes>"
      ]
     },
     "metadata": {},
     "output_type": "display_data"
    }
   ],
   "source": [
    "#Make the boxplot to see data distribution\n",
    "sns.boxplot(x=sales_data['price'])\n",
    "plt.title(\"Before filter outlier Price\")\n",
    "plt.show"
   ]
  },
  {
   "cell_type": "markdown",
   "id": "33745752-f2c9-469e-bdf7-d3b8bf3a2470",
   "metadata": {},
   "source": [
    "The boxplot shows that the median is located closer to Q1, indicating that the data is right-skewed. The whisker extends far to the right, which further confirms the skewness. Additionally, there are several outliers starting from a price of 3000 and above."
   ]
  },
  {
   "cell_type": "markdown",
   "id": "4c30b6dd-284c-4cd6-86df-d8259d9da0b6",
   "metadata": {},
   "source": [
    "### Removing Outliers Using IQR Method"
   ]
  },
  {
   "cell_type": "code",
   "execution_count": 8,
   "id": "0d1edfe7-3053-450c-96a4-8f1bf84d2e3e",
   "metadata": {},
   "outputs": [],
   "source": [
    "#In this step, we calculate the IQR to detect and remove outliers.\n",
    "Q1 = sales_data['price'].quantile(0.25)\n",
    "Q3 = sales_data['price'].quantile(0.75)\n",
    "IQR = Q3-Q1\n",
    "\n",
    "lower_bound = Q1-1.5*IQR\n",
    "upper_bound = Q3+1.5*IQR\n",
    "\n",
    "#Filtering Data to Remove Outliers \n",
    "sales_data = sales_data[(sales_data['price'] >= lower_bound) & (sales_data['price'] <= upper_bound)]"
   ]
  },
  {
   "cell_type": "code",
   "execution_count": 9,
   "id": "b658b7fa-1903-4e9c-b8b2-2db49355e0a9",
   "metadata": {},
   "outputs": [
    {
     "data": {
      "text/html": [
       "<div>\n",
       "<style scoped>\n",
       "    .dataframe tbody tr th:only-of-type {\n",
       "        vertical-align: middle;\n",
       "    }\n",
       "\n",
       "    .dataframe tbody tr th {\n",
       "        vertical-align: top;\n",
       "    }\n",
       "\n",
       "    .dataframe thead th {\n",
       "        text-align: right;\n",
       "    }\n",
       "</style>\n",
       "<table border=\"1\" class=\"dataframe\">\n",
       "  <thead>\n",
       "    <tr style=\"text-align: right;\">\n",
       "      <th></th>\n",
       "      <th>quantity</th>\n",
       "      <th>price</th>\n",
       "      <th>invoice_date</th>\n",
       "    </tr>\n",
       "  </thead>\n",
       "  <tbody>\n",
       "    <tr>\n",
       "      <th>count</th>\n",
       "      <td>94446.000000</td>\n",
       "      <td>94446.000000</td>\n",
       "      <td>94446</td>\n",
       "    </tr>\n",
       "    <tr>\n",
       "      <th>mean</th>\n",
       "      <td>2.929304</td>\n",
       "      <td>527.348820</td>\n",
       "      <td>2022-01-26 17:48:27.032590080</td>\n",
       "    </tr>\n",
       "    <tr>\n",
       "      <th>min</th>\n",
       "      <td>1.000000</td>\n",
       "      <td>5.230000</td>\n",
       "      <td>2021-01-01 00:00:00</td>\n",
       "    </tr>\n",
       "    <tr>\n",
       "      <th>25%</th>\n",
       "      <td>2.000000</td>\n",
       "      <td>40.660000</td>\n",
       "      <td>2021-06-30 00:00:00</td>\n",
       "    </tr>\n",
       "    <tr>\n",
       "      <th>50%</th>\n",
       "      <td>3.000000</td>\n",
       "      <td>203.300000</td>\n",
       "      <td>2022-01-29 00:00:00</td>\n",
       "    </tr>\n",
       "    <tr>\n",
       "      <th>75%</th>\n",
       "      <td>4.000000</td>\n",
       "      <td>900.240000</td>\n",
       "      <td>2022-08-05 00:00:00</td>\n",
       "    </tr>\n",
       "    <tr>\n",
       "      <th>max</th>\n",
       "      <td>5.000000</td>\n",
       "      <td>2400.680000</td>\n",
       "      <td>2023-12-02 00:00:00</td>\n",
       "    </tr>\n",
       "    <tr>\n",
       "      <th>std</th>\n",
       "      <td>1.399859</td>\n",
       "      <td>613.576853</td>\n",
       "      <td>NaN</td>\n",
       "    </tr>\n",
       "  </tbody>\n",
       "</table>\n",
       "</div>"
      ],
      "text/plain": [
       "           quantity         price                   invoice_date\n",
       "count  94446.000000  94446.000000                          94446\n",
       "mean       2.929304    527.348820  2022-01-26 17:48:27.032590080\n",
       "min        1.000000      5.230000            2021-01-01 00:00:00\n",
       "25%        2.000000     40.660000            2021-06-30 00:00:00\n",
       "50%        3.000000    203.300000            2022-01-29 00:00:00\n",
       "75%        4.000000    900.240000            2022-08-05 00:00:00\n",
       "max        5.000000   2400.680000            2023-12-02 00:00:00\n",
       "std        1.399859    613.576853                            NaN"
      ]
     },
     "execution_count": 9,
     "metadata": {},
     "output_type": "execute_result"
    }
   ],
   "source": [
    "sales_data.describe()"
   ]
  },
  {
   "cell_type": "markdown",
   "id": "b3f10aae-9b0a-461a-964b-fff0877e48f0",
   "metadata": {},
   "source": [
    "Check the box plot agian"
   ]
  },
  {
   "cell_type": "code",
   "execution_count": 10,
   "id": "bda5c706-5478-4eb6-96f3-6a5ed9ae1135",
   "metadata": {},
   "outputs": [
    {
     "data": {
      "text/plain": [
       "<function matplotlib.pyplot.show(close=None, block=None)>"
      ]
     },
     "execution_count": 10,
     "metadata": {},
     "output_type": "execute_result"
    },
    {
     "data": {
      "image/png": "[encoded data removed]",
      "text/plain": [
       "<Figure size 640x480 with 1 Axes>"
      ]
     },
     "metadata": {},
     "output_type": "display_data"
    }
   ],
   "source": [
    "sns.boxplot(x = sales_data['price'])\n",
    "plt.title(\"After fillter outlier\")\n",
    "plt.show"
   ]
  },
  {
   "cell_type": "markdown",
   "id": "ae69c9ae-4b73-4bd7-b9ee-80471c596ed0",
   "metadata": {},
   "source": [
    "sales data is already clean, next step I will check for customer_data.csv"
   ]
  },
  {
   "cell_type": "code",
   "execution_count": 11,
   "id": "3678922d-b016-450a-aced-03ca9567de51",
   "metadata": {},
   "outputs": [
    {
     "name": "stdout",
     "output_type": "stream",
     "text": [
      "Customer Data Info:\n",
      "<class 'pandas.core.frame.DataFrame'>\n",
      "RangeIndex: 99457 entries, 0 to 99456\n",
      "Data columns (total 4 columns):\n",
      " #   Column          Non-Null Count  Dtype  \n",
      "---  ------          --------------  -----  \n",
      " 0   customer_id     99457 non-null  object \n",
      " 1   gender          99457 non-null  object \n",
      " 2   age             99338 non-null  float64\n",
      " 3   payment_method  99457 non-null  object \n",
      "dtypes: float64(1), object(3)\n",
      "memory usage: 3.0+ MB\n",
      "None\n",
      "\n",
      "Customer Data Missing Values:\n",
      "customer_id         0\n",
      "gender              0\n",
      "age               119\n",
      "payment_method      0\n",
      "dtype: int64\n"
     ]
    }
   ],
   "source": [
    "#Check data type and missing values in customer_data.csv\n",
    "print(\"Customer Data Info:\")\n",
    "print(customer_data.info())\n",
    "print(\"\\nCustomer Data Missing Values:\")\n",
    "print(customer_data.isnull().sum())"
   ]
  },
  {
   "cell_type": "code",
   "execution_count": 12,
   "id": "37c95e40-f59a-4244-84dd-a7a2605e70bc",
   "metadata": {},
   "outputs": [],
   "source": [
    "#Fill Missing Value"
   ]
  },
  {
   "cell_type": "markdown",
   "id": "6c7a6341",
   "metadata": {},
   "source": [
    "\n",
    "## 3. Handling Missing Values  \n",
    "\n",
    "To ensure data quality and maintain accuracy, I handle missing values as follows:  \n",
    "\n",
    "- **Price**: Missing values are filled with the **median** to reduce the impact of outliers.  \n",
    "- **Invoice Date**: The column is converted to **datetime format**, and missing values are filled using **forward fill (ffill)** to propagate previous values.  \n",
    "\n",
    "These steps ensure that the dataset remains consistent and complete for further analysis.\n"
   ]
  },
  {
   "cell_type": "markdown",
   "id": "6286cd3d",
   "metadata": {},
   "source": [
    "\n",
    "## Introduction\n",
    "\n",
    "This project focuses on cleaning and analyzing a sales dataset to ensure it is ready for further exploration and analysis. The primary tasks include handling missing values, removing duplicates, and detecting outliers. By performing these steps, I ensure data quality and reliability for generating meaningful insights.\n"
   ]
  },
  {
   "cell_type": "markdown",
   "id": "17e5ff55",
   "metadata": {},
   "source": [
    "\n",
    "## Purpose of the Project  \n",
    "\n",
    "The goal of this project is to:  \n",
    "1. Ensure the dataset is clean, accurate, and free from inconsistencies.  \n",
    "2. Identify and resolve missing values, duplicates, and outliers.  \n",
    "3. Prepare the data for exploratory analysis, visualization, and potential modeling.  \n",
    "\n",
    "This structured approach ensures high-quality data that can drive actionable business insights.\n"
   ]
  },
  {
   "cell_type": "markdown",
   "id": "44710a46",
   "metadata": {},
   "source": [
    "\n",
    "## 3. Handling Missing Values  \n",
    "\n",
    "To ensure data quality and maintain accuracy, I handle missing values as follows:  \n",
    "\n",
    "- **Price**: Missing values are filled with the **median** to reduce the impact of outliers.  \n",
    "- **Invoice Date**: The column is converted to **datetime format**, and missing values are filled using **forward fill (ffill)** to propagate previous values.  \n",
    "\n",
    "These steps ensure that the dataset remains consistent and complete for further analysis.\n"
   ]
  },
  {
   "cell_type": "markdown",
   "id": "35aeb5c4",
   "metadata": {},
   "source": [
    "\n",
    "## Conclusion of Analysis  \n",
    "\n",
    "By handling missing values, removing duplicates, and filtering outliers, the dataset is now clean, reliable, and ready for further analysis. This process ensures:  \n",
    "1. Accurate insights based on complete and high-quality data.  \n",
    "2. A strong foundation for exploratory data analysis (EDA) and advanced modeling.  \n",
    "\n",
    "Next steps include exploring patterns, trends, and relationships in the cleaned data to generate actionable business insights.\n"
   ]
  }
 ],
 "metadata": {
  "kernelspec": {
   "display_name": "Python 3 (ipykernel)",
   "language": "python",
   "name": "python3"
  },
  "language_info": {
   "codemirror_mode": {
    "name": "ipython",
    "version": 3
   },
   "file_extension": ".py",
   "mimetype": "text/x-python",
   "name": "python",
   "nbconvert_exporter": "python",
   "pygments_lexer": "ipython3",
   "version": "3.12.4"
  }
 },
 "nbformat": 4,
 "nbformat_minor": 5
}
